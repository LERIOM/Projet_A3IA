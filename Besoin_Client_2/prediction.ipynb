{
 "cells": [
  {
   "cell_type": "code",
   "execution_count": null,
   "id": "4541d494",
   "metadata": {},
   "outputs": [
    {
     "name": "stdout",
     "output_type": "stream",
     "text": [
      "              id       mmsi       base_date_time       lat       lon   sog  \\\n",
      "16221    1066897  205776000  2023-05-29 03:11:21  29.46829 -89.67173  12.5   \n",
      "197785  16952869  205776000  2023-05-25 13:34:27  25.95846 -97.37879   0.0   \n",
      "240380  20893558  205776000  2023-05-27 10:44:50  26.31137 -94.72570  12.5   \n",
      "197824  16958321  205776000  2023-05-25 20:46:27  25.95845 -97.37879   0.0   \n",
      "73757    5638428  205776000  2023-05-29 17:11:39  29.83829 -89.99256   0.2   \n",
      "...          ...        ...                  ...       ...       ...   ...   \n",
      "57645    4137266  671830000  2023-05-29 12:59:35  25.79636 -80.24541   0.0   \n",
      "57643    4137239  671830000  2023-05-29 10:56:35  25.79634 -80.24539   0.0   \n",
      "172185  14519096  671830000  2023-05-25 17:39:30  25.79637 -80.24541   0.0   \n",
      "58856    4242120  671830000  2023-05-29 13:10:36  25.79637 -80.24541   0.0   \n",
      "63041    4614993  671830000  2023-05-29 12:20:37  25.79635 -80.24542   0.0   \n",
      "\n",
      "          cog  heading vessel_name         imo call_sign  vessel_type  status  \\\n",
      "16221   304.0    305.0     LA LUNA  IMO9846079      ONKC           70     0.0   \n",
      "197785    0.0    249.0     LA LUNA  IMO9846079      ONKC           70     5.0   \n",
      "240380   79.3     80.0     LA LUNA  IMO9846079      ONKC           70     0.0   \n",
      "197824    0.0    249.0     LA LUNA  IMO9846079      ONKC           70     5.0   \n",
      "73757   121.8     48.0     LA LUNA  IMO9846079      ONKC           70     1.0   \n",
      "...       ...      ...         ...         ...       ...          ...     ...   \n",
      "57645     0.0      NaN   SLINGSHOT  IMO8126549     5VEO6           70     5.0   \n",
      "57643     0.0      NaN   SLINGSHOT  IMO8126549     5VEO6           70     5.0   \n",
      "172185    0.0      NaN   SLINGSHOT  IMO8126549     5VEO6           70     5.0   \n",
      "58856     0.0      NaN   SLINGSHOT  IMO8126549     5VEO6           70     5.0   \n",
      "63041     0.0      NaN   SLINGSHOT  IMO8126549     5VEO6           70     5.0   \n",
      "\n",
      "        length  width  draft  cargo transceiver_class  \n",
      "16221    200.0   32.0    7.0   70.0                 A  \n",
      "197785   200.0   32.0   11.8   70.0                 A  \n",
      "240380   200.0   32.0    7.0   70.0                 A  \n",
      "197824   200.0   32.0   11.8   70.0                 A  \n",
      "73757    200.0   32.0    7.0   70.0                 A  \n",
      "...        ...    ...    ...    ...               ...  \n",
      "57645     63.0    9.0    4.5   70.0                 A  \n",
      "57643     63.0    9.0    4.5   70.0                 A  \n",
      "172185    63.0    9.0    4.5   70.0                 A  \n",
      "58856     63.0    9.0    4.5   70.0                 A  \n",
      "63041     63.0    9.0    4.5   70.0                 A  \n",
      "\n",
      "[383232 rows x 18 columns]\n",
      "Best params: {'clf__max_depth': 20, 'clf__n_estimators': 100}\n",
      "Classification report sur l'ensemble de test :\n",
      "              precision    recall  f1-score   support\n",
      "\n",
      "          60       1.00      1.00      1.00      6672\n",
      "          61       1.00      1.00      1.00       389\n",
      "          70       1.00      1.00      1.00     17492\n",
      "          71       1.00      1.00      1.00      1255\n",
      "          74       1.00      1.00      1.00       334\n",
      "          79       1.00      1.00      1.00      1151\n",
      "          80       1.00      1.00      1.00     18520\n",
      "          82       1.00      1.00      1.00       336\n",
      "          84       1.00      1.00      1.00       277\n",
      "          89       1.00      1.00      1.00      1432\n",
      "\n",
      "    accuracy                           1.00     47858\n",
      "   macro avg       1.00      1.00      1.00     47858\n",
      "weighted avg       1.00      1.00      1.00     47858\n",
      "\n"
     ]
    },
    {
     "data": {
      "text/plain": [
       "['model_vessel_type.pkl']"
      ]
     },
     "execution_count": 21,
     "metadata": {},
     "output_type": "execute_result"
    }
   ],
   "source": [
    "import pandas as pd\n",
    "from sklearn.model_selection import train_test_split, GridSearchCV\n",
    "from sklearn.preprocessing import StandardScaler, OneHotEncoder\n",
    "from sklearn.compose import ColumnTransformer\n",
    "from sklearn.pipeline import Pipeline\n",
    "from sklearn.ensemble import RandomForestClassifier\n",
    "from sklearn.metrics import classification_report\n",
    "import joblib\n",
    "\n",
    "# 1. Charger les données\n",
    "df = pd.read_csv(\"../vessel-total-clean-final.csv\", na_values=[\"\", \"NA\", \"\\\\N\", \"na\", \"n\"])\n",
    "\n",
    "df = df.sort_values(by='mmsi')\n",
    "# 2. Sélection des colonnes utiles\n",
    "features = ['sog', 'cog', 'heading', 'length', 'width', 'draft']\n",
    "df = df[features + ['vessel_type']].dropna()\n",
    "\n",
    "# 3. Séparer X et y\n",
    "X = df[features]\n",
    "y = df['vessel_type']\n",
    "\n",
    "# 4. Diviser en ensembles d'entraînement et de test\n",
    "X_train, X_test, y_train, y_test = train_test_split(X, y, test_size=0.2, random_state=42)\n",
    "\n",
    "# 5. Prétraitement\n",
    "num_cols = ['sog', 'cog', 'heading', 'length', 'width', 'draft']\n",
    "\n",
    "preprocessor = ColumnTransformer([\n",
    "    ('num', StandardScaler(), num_cols)\n",
    "])\n",
    "\n",
    "# 6. Pipeline avec RandomForest\n",
    "pipeline = Pipeline([\n",
    "    ('preprocess', preprocessor),\n",
    "    ('clf', RandomForestClassifier(random_state=42))\n",
    "])\n",
    "\n",
    "# 7. GridSearchCV pour tuning\n",
    "param_grid = {\n",
    "    'clf__n_estimators': [100],\n",
    "    'clf__max_depth': [10, 20, None]\n",
    "}\n",
    "\n",
    "grid = GridSearchCV(pipeline, param_grid, cv=3, scoring='accuracy', n_jobs=-1)\n",
    "grid.fit(X_train, y_train)\n",
    "\n",
    "# 8. Évaluation sur l'ensemble de test\n",
    "print(\"Best params:\", grid.best_params_)\n",
    "print(\"Classification report sur l'ensemble de test :\")\n",
    "print(classification_report(y_test, grid.predict(X_test)))\n",
    "\n",
    "# 9. Sauvegarder le modèle\n",
    "joblib.dump(grid.best_estimator_, \"model_vessel_type.pkl\")\n",
    " "
   ]
  },
  {
   "cell_type": "code",
   "execution_count": null,
   "id": "6311c8bf",
   "metadata": {},
   "outputs": [
    {
     "name": "stdout",
     "output_type": "stream",
     "text": [
      "Best params: {'clf__C': 0.1, 'clf__penalty': 'l2'}\n",
      "Classification report sur l'ensemble de test :\n",
      "              precision    recall  f1-score   support\n",
      "\n",
      "          60       0.72      0.92      0.81      6672\n",
      "          61       0.00      0.00      0.00       389\n",
      "          70       0.58      0.50      0.54     17492\n",
      "          71       0.45      0.34      0.39      1255\n",
      "          74       0.00      0.00      0.00       334\n",
      "          79       0.00      0.00      0.00      1151\n",
      "          80       0.54      0.66      0.59     18520\n",
      "          82       0.00      0.00      0.00       336\n",
      "          84       0.00      0.00      0.00       277\n",
      "          89       0.32      0.13      0.19      1432\n",
      "\n",
      "    accuracy                           0.58     47858\n",
      "   macro avg       0.26      0.26      0.25     47858\n",
      "weighted avg       0.54      0.58      0.56     47858\n",
      "\n"
     ]
    },
    {
     "name": "stderr",
     "output_type": "stream",
     "text": [
      "c:\\Users\\lucav\\AppData\\Local\\Programs\\Python\\Python39\\lib\\site-packages\\sklearn\\metrics\\_classification.py:1565: UndefinedMetricWarning: Precision is ill-defined and being set to 0.0 in labels with no predicted samples. Use `zero_division` parameter to control this behavior.\n",
      "  _warn_prf(average, modifier, f\"{metric.capitalize()} is\", len(result))\n",
      "c:\\Users\\lucav\\AppData\\Local\\Programs\\Python\\Python39\\lib\\site-packages\\sklearn\\metrics\\_classification.py:1565: UndefinedMetricWarning: Precision is ill-defined and being set to 0.0 in labels with no predicted samples. Use `zero_division` parameter to control this behavior.\n",
      "  _warn_prf(average, modifier, f\"{metric.capitalize()} is\", len(result))\n",
      "c:\\Users\\lucav\\AppData\\Local\\Programs\\Python\\Python39\\lib\\site-packages\\sklearn\\metrics\\_classification.py:1565: UndefinedMetricWarning: Precision is ill-defined and being set to 0.0 in labels with no predicted samples. Use `zero_division` parameter to control this behavior.\n",
      "  _warn_prf(average, modifier, f\"{metric.capitalize()} is\", len(result))\n"
     ]
    },
    {
     "data": {
      "text/plain": [
       "['model_vessel_type_logistic.pkl']"
      ]
     },
     "execution_count": 18,
     "metadata": {},
     "output_type": "execute_result"
    }
   ],
   "source": [
    "import pandas as pd\n",
    "from sklearn.model_selection import train_test_split, GridSearchCV\n",
    "from sklearn.preprocessing import StandardScaler\n",
    "from sklearn.compose import ColumnTransformer\n",
    "from sklearn.pipeline import Pipeline\n",
    "from sklearn.linear_model import LogisticRegression\n",
    "from sklearn.metrics import classification_report\n",
    "import joblib\n",
    "\n",
    "# 1. Charger les données\n",
    "df = pd.read_csv(\"../vessel-total-clean-final.csv\", na_values=[\"\", \"NA\", \"\\\\N\", \"na\", \"n\"])\n",
    "\n",
    "# 2. Trier les données par MMSI\n",
    "df = df.sort_values(by='mmsi')\n",
    "\n",
    "# 3. Sélection des colonnes utiles\n",
    "features = ['sog', 'cog', 'heading', 'length', 'width', 'draft']\n",
    "df = df[features + ['vessel_type']].dropna()\n",
    "\n",
    "# 4. Séparer X et y\n",
    "X = df[features]\n",
    "y = df['vessel_type']\n",
    "\n",
    "# 5. Diviser en ensembles d'entraînement et de test\n",
    "X_train, X_test, y_train, y_test = train_test_split(X, y, test_size=0.2, random_state=42)\n",
    "\n",
    "# 6. Prétraitement\n",
    "num_cols = ['sog', 'cog', 'heading', 'length', 'width', 'draft']\n",
    "\n",
    "preprocessor = ColumnTransformer([\n",
    "    ('num', StandardScaler(), num_cols)\n",
    "])\n",
    "\n",
    "# 7. Pipeline avec régression logistique\n",
    "pipeline = Pipeline([\n",
    "    ('preprocess', preprocessor),\n",
    "    ('clf', LogisticRegression(random_state=42, max_iter=1000))\n",
    "])\n",
    "\n",
    "# 8. GridSearchCV pour tuning\n",
    "param_grid = {\n",
    "    'clf__C': [0.1, 1, 10, 100],  # Régularisation inverse (1/C contrôle la pénalisation)\n",
    "    'clf__penalty': ['l2']  # L2 pour la régularisation de Ridge (standard pour la régression logistique)\n",
    "}\n",
    "\n",
    "grid = GridSearchCV(pipeline, param_grid, cv=3, scoring='accuracy', n_jobs=-1)\n",
    "grid.fit(X_train, y_train)\n",
    "\n",
    "# 9. Évaluation sur l'ensemble de test\n",
    "print(\"Best params:\", grid.best_params_)\n",
    "print(\"Classification report sur l'ensemble de test :\")\n",
    "print(classification_report(y_test, grid.predict(X_test)))\n",
    "\n",
    "# 10. Sauvegarder le modèle\n",
    "joblib.dump(grid.best_estimator_, \"model_vessel_type_logistic.pkl\")\n"
   ]
  },
  {
   "cell_type": "code",
   "execution_count": 20,
   "id": "3b9d7be7",
   "metadata": {},
   "outputs": [],
   "source": [
    "model_random_forest = joblib.load(\"model_vessel_type.pkl\")"
   ]
  },
  {
   "cell_type": "code",
   "execution_count": 22,
   "id": "3aadf94a",
   "metadata": {},
   "outputs": [],
   "source": [
    "model_logistic = joblib.load(\"model_vessel_type_logistic.pkl\")"
   ]
  },
  {
   "cell_type": "code",
   "execution_count": null,
   "id": "8ba9bb73",
   "metadata": {},
   "outputs": [
    {
     "name": "stdout",
     "output_type": "stream",
     "text": [
      "Prédiction : [70]\n"
     ]
    }
   ],
   "source": [
    "import pandas as pd\n",
    "\n",
    "# Exemple de nouvelles données\n",
    "new_data = pd.DataFrame({\n",
    "    'sog': [12.0],\n",
    "    'cog': [180.0],\n",
    "    'heading': [190.0],\n",
    "    'length': [150.0],\n",
    "    'width': [30.0],\n",
    "    'draft': [8.0]\n",
    "})\n",
    "\n",
    "# Utiliser le modèle directement pour faire une prédiction\n",
    "prediction = model_random_forest.predict(new_data)\n",
    "print(\"Prédiction :\", prediction)\n"
   ]
  },
  {
   "cell_type": "code",
   "execution_count": null,
   "id": "60983451",
   "metadata": {},
   "outputs": [
    {
     "name": "stdout",
     "output_type": "stream",
     "text": [
      "Prédiction : [80]\n"
     ]
    }
   ],
   "source": [
    "# Exemple de nouvelles données\n",
    "new_data = pd.DataFrame({\n",
    "    'sog': [12.0],\n",
    "    'cog': [180.0],\n",
    "    'heading': [190.0],\n",
    "    'length': [150.0],\n",
    "    'width': [30.0],\n",
    "    'draft': [8.0]\n",
    "})\n",
    "\n",
    "# Utiliser le modèle directement pour faire une prédiction\n",
    "prediction = model_logistic.predict(new_data)\n",
    "print(\"Prédiction :\", prediction)\n"
   ]
  }
 ],
 "metadata": {
  "kernelspec": {
   "display_name": "Python 3",
   "language": "python",
   "name": "python3"
  },
  "language_info": {
   "codemirror_mode": {
    "name": "ipython",
    "version": 3
   },
   "file_extension": ".py",
   "mimetype": "text/x-python",
   "name": "python",
   "nbconvert_exporter": "python",
   "pygments_lexer": "ipython3",
   "version": "3.9.7"
  }
 },
 "nbformat": 4,
 "nbformat_minor": 5
}
