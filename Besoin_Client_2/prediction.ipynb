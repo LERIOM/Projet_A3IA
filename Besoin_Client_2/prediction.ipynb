{
 "cells": [
  {
   "cell_type": "code",
   "execution_count": 34,
   "id": "4541d494",
   "metadata": {},
   "outputs": [
    {
     "name": "stdout",
     "output_type": "stream",
     "text": [
      "Best params: {'clf__max_depth': 20, 'clf__n_estimators': 100}\n",
      "Classification report :\n",
      "              precision    recall  f1-score   support\n",
      "\n",
      "          60       1.00      1.00      1.00      6762\n",
      "          61       1.00      1.00      1.00       368\n",
      "          70       1.00      1.00      1.00     17501\n",
      "          71       1.00      1.00      1.00      1301\n",
      "          74       1.00      1.00      1.00       318\n",
      "          79       1.00      1.00      1.00      1109\n",
      "          80       1.00      1.00      1.00     18514\n",
      "          82       1.00      1.00      1.00       326\n",
      "          84       1.00      1.00      1.00       298\n",
      "          89       1.00      1.00      1.00      1361\n",
      "\n",
      "    accuracy                           1.00     47858\n",
      "   macro avg       1.00      1.00      1.00     47858\n",
      "weighted avg       1.00      1.00      1.00     47858\n",
      "\n"
     ]
    },
    {
     "data": {
      "text/plain": [
       "['model_vessel_type.pkl']"
      ]
     },
     "execution_count": 34,
     "metadata": {},
     "output_type": "execute_result"
    }
   ],
   "source": [
    "import pandas as pd\n",
    "from sklearn.model_selection import train_test_split, GridSearchCV\n",
    "from sklearn.preprocessing import StandardScaler, LabelEncoder\n",
    "from sklearn.compose import ColumnTransformer\n",
    "from sklearn.pipeline import Pipeline\n",
    "from sklearn.ensemble import RandomForestClassifier\n",
    "from sklearn.metrics import classification_report\n",
    "import joblib\n",
    "\n",
    "# 1. Charger les données\n",
    "df = pd.read_csv(\"../vessel-total-clean-final.csv\", na_values=[\"\", \"NA\", \"\\\\N\", \"na\", \"n\"])\n",
    "\n",
    "df = df.sort_values(by='mmsi')\n",
    "# 2. Sélection des colonnes utiles\n",
    "features = ['sog', 'cog', 'heading', 'length', 'width', 'draft']\n",
    "df = df[features + ['vessel_type']].dropna()\n",
    "\n",
    "# 3. Encodage de la variable cible si elle est catégorielle\n",
    "if df['vessel_type'].dtype == object:\n",
    "    le = LabelEncoder()\n",
    "    df['vessel_type'] = le.fit_transform(df['vessel_type'])\n",
    "\n",
    "# 4. Séparer X et y\n",
    "X = df[features]\n",
    "y = df['vessel_type']\n",
    "\n",
    "# 5. Diviser en ensembles d'entraînement et de test stratifiés\n",
    "X_train, X_test, y_train, y_test = train_test_split(\n",
    "    X, y,\n",
    "    test_size=0.2,\n",
    "    random_state=42,\n",
    "    stratify=y  # très important pour préserver la distribution\n",
    ")\n",
    "\n",
    "# 6. Prétraitement\n",
    "num_cols = features\n",
    "preprocessor = ColumnTransformer([\n",
    "    ('num', StandardScaler(), num_cols)\n",
    "])\n",
    "\n",
    "# 7. Pipeline avec RandomForest\n",
    "pipeline = Pipeline([\n",
    "    ('preprocess', preprocessor),\n",
    "    ('clf', RandomForestClassifier(random_state=42))\n",
    "])\n",
    "\n",
    "# 8. GridSearchCV pour tuning\n",
    "param_grid = {\n",
    "    'clf__n_estimators': [100, 200],\n",
    "    'clf__max_depth': [5, 10, 20]\n",
    "}\n",
    "\n",
    "grid = GridSearchCV(\n",
    "    pipeline,\n",
    "    param_grid,\n",
    "    cv=5,  \n",
    "    scoring='accuracy',\n",
    "    n_jobs=-1\n",
    ")\n",
    "grid.fit(X_train, y_train)\n",
    "\n",
    "# 9. Évaluation sur l'ensemble de test\n",
    "y_pred = grid.predict(X_test)\n",
    "print(\"Best params:\", grid.best_params_)\n",
    "print(\"Classification report :\")\n",
    "print(classification_report(y_test, y_pred))\n",
    "\n",
    "# 10. Sauvegarder le modèle\n",
    "joblib.dump(grid.best_estimator_, \"model_vessel_type.pkl\")\n"
   ]
  },
  {
   "cell_type": "code",
   "execution_count": null,
   "id": "7d2dabe1",
   "metadata": {},
   "outputs": [
    {
     "name": "stdout",
     "output_type": "stream",
     "text": [
      "Accuracy avec 'sog' seul : 0.4394\n",
      "Accuracy avec 'cog' seul : 0.4299\n",
      "Accuracy avec 'heading' seul : 0.6039\n",
      "Accuracy avec 'length' seul : 0.8834\n",
      "Accuracy avec 'width' seul : 0.6923\n",
      "Accuracy avec 'draft' seul : 0.8861\n"
     ]
    }
   ],
   "source": [
    "for feature in features:\n",
    "    from sklearn.ensemble import RandomForestClassifier\n",
    "    from sklearn.model_selection import train_test_split\n",
    "    Xf = df[[feature]]\n",
    "    X_train_f, X_test_f, y_train_f, y_test_f = train_test_split(Xf, y, stratify=y, random_state=42)\n",
    "    clf = RandomForestClassifier().fit(X_train_f, y_train_f)\n",
    "    acc = clf.score(X_test_f, y_test_f)\n",
    "    print(f\"Accuracy avec '{feature}' seul : {acc:.4f}\")\n"
   ]
  },
  {
   "cell_type": "code",
   "execution_count": null,
   "id": "6311c8bf",
   "metadata": {},
   "outputs": [
    {
     "name": "stdout",
     "output_type": "stream",
     "text": [
      "Best params: {'clf__C': 0.1, 'clf__penalty': 'l2'}\n",
      "Classification report sur l'ensemble de test :\n",
      "              precision    recall  f1-score   support\n",
      "\n",
      "          60       0.72      0.92      0.81      6672\n",
      "          61       0.00      0.00      0.00       389\n",
      "          70       0.58      0.50      0.54     17492\n",
      "          71       0.45      0.34      0.39      1255\n",
      "          74       0.00      0.00      0.00       334\n",
      "          79       0.00      0.00      0.00      1151\n",
      "          80       0.54      0.66      0.59     18520\n",
      "          82       0.00      0.00      0.00       336\n",
      "          84       0.00      0.00      0.00       277\n",
      "          89       0.32      0.13      0.19      1432\n",
      "\n",
      "    accuracy                           0.58     47858\n",
      "   macro avg       0.26      0.26      0.25     47858\n",
      "weighted avg       0.54      0.58      0.56     47858\n",
      "\n"
     ]
    },
    {
     "name": "stderr",
     "output_type": "stream",
     "text": [
      "c:\\Users\\lucav\\AppData\\Local\\Programs\\Python\\Python39\\lib\\site-packages\\sklearn\\metrics\\_classification.py:1565: UndefinedMetricWarning: Precision is ill-defined and being set to 0.0 in labels with no predicted samples. Use `zero_division` parameter to control this behavior.\n",
      "  _warn_prf(average, modifier, f\"{metric.capitalize()} is\", len(result))\n",
      "c:\\Users\\lucav\\AppData\\Local\\Programs\\Python\\Python39\\lib\\site-packages\\sklearn\\metrics\\_classification.py:1565: UndefinedMetricWarning: Precision is ill-defined and being set to 0.0 in labels with no predicted samples. Use `zero_division` parameter to control this behavior.\n",
      "  _warn_prf(average, modifier, f\"{metric.capitalize()} is\", len(result))\n",
      "c:\\Users\\lucav\\AppData\\Local\\Programs\\Python\\Python39\\lib\\site-packages\\sklearn\\metrics\\_classification.py:1565: UndefinedMetricWarning: Precision is ill-defined and being set to 0.0 in labels with no predicted samples. Use `zero_division` parameter to control this behavior.\n",
      "  _warn_prf(average, modifier, f\"{metric.capitalize()} is\", len(result))\n"
     ]
    },
    {
     "data": {
      "text/plain": [
       "['model_vessel_type_logistic.pkl']"
      ]
     },
     "execution_count": 18,
     "metadata": {},
     "output_type": "execute_result"
    }
   ],
   "source": [
    "import pandas as pd\n",
    "from sklearn.model_selection import train_test_split, GridSearchCV\n",
    "from sklearn.preprocessing import StandardScaler\n",
    "from sklearn.compose import ColumnTransformer\n",
    "from sklearn.pipeline import Pipeline\n",
    "from sklearn.linear_model import LogisticRegression\n",
    "from sklearn.metrics import classification_report\n",
    "import joblib\n",
    "\n",
    "# 1. Charger les données\n",
    "df = pd.read_csv(\"../vessel-total-clean-final.csv\", na_values=[\"\", \"NA\", \"\\\\N\", \"na\", \"n\"])\n",
    "\n",
    "# 2. Trier les données par MMSI\n",
    "df = df.sort_values(by='mmsi')\n",
    "\n",
    "# 3. Sélection des colonnes utiles\n",
    "features = ['sog', 'cog', 'heading', 'length', 'width', 'draft']\n",
    "df = df[features + ['vessel_type']].dropna()\n",
    "\n",
    "# 4. Séparer X et y\n",
    "X = df[features]\n",
    "y = df['vessel_type']\n",
    "\n",
    "# 5. Diviser en ensembles d'entraînement et de test\n",
    "X_train, X_test, y_train, y_test = train_test_split(X, y, test_size=0.2, random_state=42)\n",
    "\n",
    "# 6. Prétraitement\n",
    "num_cols = ['sog', 'cog', 'heading', 'length', 'width', 'draft']\n",
    "\n",
    "preprocessor = ColumnTransformer([\n",
    "    ('num', StandardScaler(), num_cols)\n",
    "])\n",
    "\n",
    "# 7. Pipeline avec régression logistique\n",
    "pipeline = Pipeline([\n",
    "    ('preprocess', preprocessor),\n",
    "    ('clf', LogisticRegression(random_state=42, max_iter=1000))\n",
    "])\n",
    "\n",
    "# 8. GridSearchCV pour tuning\n",
    "param_grid = {\n",
    "    'clf__C': [0.1, 1, 10, 100],  # Régularisation inverse (1/C contrôle la pénalisation)\n",
    "    'clf__penalty': ['l2']  # L2 pour la régularisation de Ridge (standard pour la régression logistique)\n",
    "}\n",
    "\n",
    "grid = GridSearchCV(pipeline, param_grid, cv=3, scoring='accuracy', n_jobs=-1)\n",
    "grid.fit(X_train, y_train)\n",
    "\n",
    "# 9. Évaluation sur l'ensemble de test\n",
    "print(\"Best params:\", grid.best_params_)\n",
    "print(\"Classification report sur l'ensemble de test :\")\n",
    "print(classification_report(y_test, grid.predict(X_test)))\n",
    "\n",
    "# 10. Sauvegarder le modèle\n",
    "joblib.dump(grid.best_estimator_, \"model_vessel_type_logistic.pkl\")\n"
   ]
  },
  {
   "cell_type": "code",
   "execution_count": 20,
   "id": "3b9d7be7",
   "metadata": {},
   "outputs": [],
   "source": [
    "model_random_forest = joblib.load(\"model_vessel_type.pkl\")"
   ]
  },
  {
   "cell_type": "code",
   "execution_count": 22,
   "id": "3aadf94a",
   "metadata": {},
   "outputs": [],
   "source": [
    "model_logistic = joblib.load(\"model_vessel_type_logistic.pkl\")"
   ]
  },
  {
   "cell_type": "code",
   "execution_count": null,
   "id": "8ba9bb73",
   "metadata": {},
   "outputs": [
    {
     "name": "stdout",
     "output_type": "stream",
     "text": [
      "Prédiction : [70]\n"
     ]
    }
   ],
   "source": [
    "import pandas as pd\n",
    "\n",
    "# Exemple de nouvelles données\n",
    "new_data = pd.DataFrame({\n",
    "    'sog': [12.0],\n",
    "    'cog': [180.0],\n",
    "    'heading': [190.0],\n",
    "    'length': [150.0],\n",
    "    'width': [30.0],\n",
    "    'draft': [8.0]\n",
    "})\n",
    "\n",
    "# Utiliser le modèle directement pour faire une prédiction\n",
    "prediction = model_random_forest.predict(new_data)\n",
    "print(\"Prédiction :\", prediction)\n"
   ]
  },
  {
   "cell_type": "code",
   "execution_count": null,
   "id": "60983451",
   "metadata": {},
   "outputs": [
    {
     "name": "stdout",
     "output_type": "stream",
     "text": [
      "Prédiction : [80]\n"
     ]
    }
   ],
   "source": [
    "# Exemple de nouvelles données\n",
    "new_data = pd.DataFrame({\n",
    "    'sog': [12.0],\n",
    "    'cog': [180.0],\n",
    "    'heading': [190.0],\n",
    "    'length': [150.0],\n",
    "    'width': [30.0],\n",
    "    'draft': [8.0]\n",
    "})\n",
    "\n",
    "# Utiliser le modèle directement pour faire une prédiction\n",
    "prediction = model_logistic.predict(new_data)\n",
    "print(\"Prédiction :\", prediction)\n"
   ]
  }
 ],
 "metadata": {
  "kernelspec": {
   "display_name": "Python 3",
   "language": "python",
   "name": "python3"
  },
  "language_info": {
   "codemirror_mode": {
    "name": "ipython",
    "version": 3
   },
   "file_extension": ".py",
   "mimetype": "text/x-python",
   "name": "python",
   "nbconvert_exporter": "python",
   "pygments_lexer": "ipython3",
   "version": "3.9.7"
  }
 },
 "nbformat": 4,
 "nbformat_minor": 5
}
