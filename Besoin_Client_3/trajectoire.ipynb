{
 "cells": [
  {
   "cell_type": "code",
   "execution_count": null,
   "id": "6aed4dec",
   "metadata": {},
   "outputs": [
    {
     "name": "stdout",
     "output_type": "stream",
     "text": [
      "['id', 'mmsi', 'base_date_time', 'lat', 'lon', 'sog', 'cog', 'heading', 'vessel_name', 'imo', 'call_sign', 'vessel_type', 'status', 'length', 'width', 'draft', 'cargo', 'transceiver_class', 'delta_seconds']\n"
     ]
    },
    {
     "name": "stderr",
     "output_type": "stream",
     "text": [
      "/var/folders/58/f827j2cx7n12q31tb_gc35lw0000gn/T/ipykernel_66678/586801013.py:15: DeprecationWarning: DataFrameGroupBy.apply operated on the grouping columns. This behavior is deprecated, and in a future version of pandas the grouping columns will be excluded from the operation. Either pass `include_groups=False` to exclude the groupings or explicitly select the grouping columns after groupby to silence this warning.\n",
      "  df = df.groupby('mmsi').apply(lambda group: group.iloc[1:]).reset_index(drop=True)\n"
     ]
    }
   ],
   "source": [
    "import pandas as pd\n",
    "\n",
    "# Charger le csv\n",
    "df = pd.read_csv(\"../vessel-total-clean-final.csv\")\n",
    "\n",
    "# Convertir la colonne date en datetime\n",
    "df['base_date_time'] = pd.to_datetime(df['base_date_time'])\n",
    "\n",
    "# Trier par mmsi + date (si plusieurs navires)\n",
    "df = df.sort_values(['mmsi', 'base_date_time'])\n",
    "\n",
    "# Calculer delta_seconds pour chaque MMSI\n",
    "df['delta_seconds'] = df.groupby('mmsi')['base_date_time'].diff().dt.total_seconds()\n",
    "\n",
    "df = df.groupby('mmsi').apply(lambda group: group.iloc[1:]).reset_index(drop=True)\n",
    "\n",
    "print(df.columns.tolist())\n",
    "#crée les features avec le delta seconds dedans \n",
    "features = ['sog', 'cog', 'heading', 'length', 'draft', 'delta_seconds']\n",
    "X = df[features]\n",
    "\n",
    "print()"
   ]
  },
  {
   "cell_type": "code",
   "execution_count": 9,
   "id": "833b0221",
   "metadata": {},
   "outputs": [
    {
     "name": "stdout",
     "output_type": "stream",
     "text": [
      "<bound method NDFrame.head of 73379     25.95848\n",
      "73577     25.95846\n",
      "73699     25.95849\n",
      "77589     25.95846\n",
      "74805     25.95842\n",
      "            ...   \n",
      "234062         NaN\n",
      "234177         NaN\n",
      "234273         NaN\n",
      "234358         NaN\n",
      "234460         NaN\n",
      "Name: lat_5min_ahead, Length: 239426, dtype: float64>\n"
     ]
    }
   ],
   "source": [
    "# Décaler de 5 lignes pour créer la cible à +5 min\n",
    "df['lat_5min_ahead'] = df.groupby('mmsi')['lat'].shift(-5)\n",
    "df['lon_5min_ahead'] = df.groupby('mmsi')['lon'].shift(-5)\n",
    "\n",
    "print(df['lat_5min_ahead'].head)"
   ]
  }
 ],
 "metadata": {
  "kernelspec": {
   "display_name": "Python 3",
   "language": "python",
   "name": "python3"
  },
  "language_info": {
   "codemirror_mode": {
    "name": "ipython",
    "version": 3
   },
   "file_extension": ".py",
   "mimetype": "text/x-python",
   "name": "python",
   "nbconvert_exporter": "python",
   "pygments_lexer": "ipython3",
   "version": "3.12.5"
  }
 },
 "nbformat": 4,
 "nbformat_minor": 5
}
