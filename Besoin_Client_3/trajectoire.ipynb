{
 "cells": [
  {
   "cell_type": "code",
   "execution_count": 1,
   "id": "d73931c8",
   "metadata": {},
   "outputs": [],
   "source": [
    "import pandas as pd\n",
    "import sklearn\n",
    "from sklearn.model_selection import train_test_split\n",
    "from sklearn.ensemble import RandomForestRegressor\n",
    "from sklearn.metrics import root_mean_squared_error\n",
    "import joblib"
   ]
  },
  {
   "cell_type": "code",
   "execution_count": null,
   "id": "6aed4dec",
   "metadata": {},
   "outputs": [
    {
     "name": "stdout",
     "output_type": "stream",
     "text": [
      "['id', 'mmsi', 'base_date_time', 'lat', 'lon', 'sog', 'cog', 'heading', 'vessel_name', 'imo', 'call_sign', 'vessel_type', 'status', 'length', 'width', 'draft', 'cargo', 'transceiver_class', 'delta_seconds']\n"
     ]
    },
    {
     "name": "stderr",
     "output_type": "stream",
     "text": [
      "/var/folders/58/f827j2cx7n12q31tb_gc35lw0000gn/T/ipykernel_66678/586801013.py:15: DeprecationWarning: DataFrameGroupBy.apply operated on the grouping columns. This behavior is deprecated, and in a future version of pandas the grouping columns will be excluded from the operation. Either pass `include_groups=False` to exclude the groupings or explicitly select the grouping columns after groupby to silence this warning.\n",
      "  df = df.groupby('mmsi').apply(lambda group: group.iloc[1:]).reset_index(drop=True)\n"
     ]
    }
   ],
   "source": [
    "\n",
    "\n",
    "# Charger le csv\n",
    "df = pd.read_csv(\"../vessel-total-clean-final.csv\")\n",
    "\n",
    "# Convertir la colonne date en datetime\n",
    "df['base_date_time'] = pd.to_datetime(df['base_date_time'])\n",
    "\n",
    "# Trier par mmsi + date (si plusieurs navires)\n",
    "df = df.sort_values(['mmsi', 'base_date_time'])\n",
    "\n",
    "# Calculer delta_seconds pour chaque MMSI\n",
    "df['delta_seconds'] = df.groupby('mmsi')['base_date_time'].diff().dt.total_seconds()\n",
    "\n",
    "df = df.groupby('mmsi').apply(lambda group: group.iloc[1:]).reset_index(drop=True)\n",
    "\n",
    "print(df.columns.tolist())\n",
    "\n",
    "\n",
    "\n"
   ]
  },
  {
   "cell_type": "markdown",
   "id": "c2f9dfc2",
   "metadata": {},
   "source": [
    "Creation des labels y"
   ]
  },
  {
   "cell_type": "code",
   "execution_count": 27,
   "id": "7ea844ca",
   "metadata": {},
   "outputs": [],
   "source": [
    "df['lat_next'] = df.groupby('mmsi')['lat'].shift(-1)\n",
    "df['lon_next'] = df.groupby('mmsi')['lon'].shift(-1)"
   ]
  },
  {
   "cell_type": "code",
   "execution_count": 28,
   "id": "15743809",
   "metadata": {},
   "outputs": [],
   "source": [
    "df = df.dropna(subset=['lat_next', 'lon_next'])"
   ]
  },
  {
   "cell_type": "code",
   "execution_count": 40,
   "id": "0628fad5",
   "metadata": {},
   "outputs": [
    {
     "name": "stdout",
     "output_type": "stream",
     "text": [
      "RMSE: 3.382615147923357\n"
     ]
    }
   ],
   "source": [
    "features = ['sog', 'cog', 'heading', 'length', 'draft', 'delta_seconds']\n",
    "X = df[features]\n",
    "y = df[['lat_next', 'lon_next']]\n",
    "\n",
    "X_train, X_test, y_train, y_test = train_test_split(X, y, test_size=0.2, shuffle=False)\n",
    "\n",
    "\n",
    "model = RandomForestRegressor()\n",
    "model.fit(X_train, y_train)\n",
    "\n",
    "y_pred = model.predict(X_test)\n",
    "\n",
    "\n",
    "rmse = root_mean_squared_error(y_test, y_pred)\n",
    "print(\"RMSE:\", rmse)"
   ]
  },
  {
   "cell_type": "code",
   "execution_count": 42,
   "id": "241cd3d7",
   "metadata": {},
   "outputs": [
    {
     "data": {
      "text/plain": [
       "['trajectoire.pkl']"
      ]
     },
     "execution_count": 42,
     "metadata": {},
     "output_type": "execute_result"
    }
   ],
   "source": [
    "joblib.dump(model, \"trajectoire.pkl\")"
   ]
  }
 ],
 "metadata": {
  "kernelspec": {
   "display_name": "Python 3",
   "language": "python",
   "name": "python3"
  },
  "language_info": {
   "codemirror_mode": {
    "name": "ipython",
    "version": 3
   },
   "file_extension": ".py",
   "mimetype": "text/x-python",
   "name": "python",
   "nbconvert_exporter": "python",
   "pygments_lexer": "ipython3",
   "version": "3.12.5"
  }
 },
 "nbformat": 4,
 "nbformat_minor": 5
}
