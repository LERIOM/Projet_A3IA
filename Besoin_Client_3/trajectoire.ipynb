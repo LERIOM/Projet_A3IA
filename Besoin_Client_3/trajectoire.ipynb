{
 "cells": [
  {
   "cell_type": "code",
   "execution_count": 6,
   "id": "6aed4dec",
   "metadata": {},
   "outputs": [
    {
     "name": "stdout",
     "output_type": "stream",
     "text": [
      "<bound method NDFrame.head of               id       mmsi      base_date_time       lat       lon  sog  \\\n",
      "73379    9067786  205776000 2023-05-25 00:07:27  25.95847 -97.37876  0.0   \n",
      "73577    9094320  205776000 2023-05-25 00:13:27  25.95846 -97.37880  0.0   \n",
      "73699    9113012  205776000 2023-05-25 00:16:27  25.95847 -97.37880  0.0   \n",
      "77589    9625845  205776000 2023-05-25 00:31:27  25.95848 -97.37879  0.0   \n",
      "74805    9261545  205776000 2023-05-25 00:34:27  25.95846 -97.37882  0.0   \n",
      "...          ...        ...                 ...       ...       ...  ...   \n",
      "234062  34268862  636091186 2023-05-31 23:45:16  28.67727 -94.78561  0.0   \n",
      "234177  34288610  636091186 2023-05-31 23:48:16  28.67729 -94.78562  0.0   \n",
      "234273  34305884  636091186 2023-05-31 23:51:16  28.67728 -94.78553  0.0   \n",
      "234358  34319429  636091186 2023-05-31 23:54:16  28.67735 -94.78555  0.0   \n",
      "234460  34335926  636091186 2023-05-31 23:57:16  28.67738 -94.78556  0.0   \n",
      "\n",
      "          cog  heading   vessel_name         imo call_sign  vessel_type  \\\n",
      "73379    77.2      249       LA LUNA  IMO9846079      ONKC           70   \n",
      "73577    77.2      249       LA LUNA  IMO9846079      ONKC           70   \n",
      "73699    77.2      249       LA LUNA  IMO9846079      ONKC           70   \n",
      "77589    77.2      249       LA LUNA  IMO9846079      ONKC           70   \n",
      "74805    77.2      249       LA LUNA  IMO9846079      ONKC           70   \n",
      "...       ...      ...           ...         ...       ...          ...   \n",
      "234062  161.4      105  HAMBURG STAR  IMO9298325     A8KJ3           80   \n",
      "234177  161.4      104  HAMBURG STAR  IMO9298325     A8KJ3           80   \n",
      "234273  161.4      104  HAMBURG STAR  IMO9298325     A8KJ3           80   \n",
      "234358  161.4      107  HAMBURG STAR  IMO9298325     A8KJ3           80   \n",
      "234460  161.4      107  HAMBURG STAR  IMO9298325     A8KJ3           80   \n",
      "\n",
      "        status  length  width  draft  cargo transceiver_class  \n",
      "73379        5   200.0   32.0   11.8     70                 A  \n",
      "73577        5   200.0   32.0   11.8     70                 A  \n",
      "73699        5   200.0   32.0   11.8     70                 A  \n",
      "77589        5   200.0   32.0   11.8     70                 A  \n",
      "74805        5   200.0   32.0   11.8     70                 A  \n",
      "...        ...     ...    ...    ...    ...               ...  \n",
      "234062       1   228.0   32.0   14.4     80                 A  \n",
      "234177       1   228.0   32.0   14.4     80                 A  \n",
      "234273       1   228.0   32.0   14.4     80                 A  \n",
      "234358       1   228.0   32.0   14.4     80                 A  \n",
      "234460       1   228.0   32.0   14.4     80                 A  \n",
      "\n",
      "[239426 rows x 18 columns]>\n"
     ]
    }
   ],
   "source": [
    "import pandas as pd\n",
    "\n",
    "# Charger le csv\n",
    "df = pd.read_csv(\"../Vessel-Total-Clean-Final.csv\")\n",
    "\n",
    "# Convertir la colonne date en datetime\n",
    "df['base_date_time'] = pd.to_datetime(df['base_date_time'])\n",
    "\n",
    "# Trier par mmsi + date (si plusieurs navires)\n",
    "df = df.sort_values(['mmsi', 'base_date_time'])\n",
    "\n",
    "print(df.head)"
   ]
  },
  {
   "cell_type": "code",
   "execution_count": 9,
   "id": "833b0221",
   "metadata": {},
   "outputs": [
    {
     "name": "stdout",
     "output_type": "stream",
     "text": [
      "<bound method NDFrame.head of 73379     25.95848\n",
      "73577     25.95846\n",
      "73699     25.95849\n",
      "77589     25.95846\n",
      "74805     25.95842\n",
      "            ...   \n",
      "234062         NaN\n",
      "234177         NaN\n",
      "234273         NaN\n",
      "234358         NaN\n",
      "234460         NaN\n",
      "Name: lat_5min_ahead, Length: 239426, dtype: float64>\n"
     ]
    }
   ],
   "source": [
    "# Décaler de 5 lignes pour créer la cible à +5 min\n",
    "df['lat_5min_ahead'] = df.groupby('mmsi')['lat'].shift(-5)\n",
    "df['lon_5min_ahead'] = df.groupby('mmsi')['lon'].shift(-5)\n",
    "\n",
    "print(df['lat_5min_ahead'].head)"
   ]
  }
 ],
 "metadata": {
  "kernelspec": {
   "display_name": "Python 3",
   "language": "python",
   "name": "python3"
  },
  "language_info": {
   "codemirror_mode": {
    "name": "ipython",
    "version": 3
   },
   "file_extension": ".py",
   "mimetype": "text/x-python",
   "name": "python",
   "nbconvert_exporter": "python",
   "pygments_lexer": "ipython3",
   "version": "3.12.5"
  }
 },
 "nbformat": 4,
 "nbformat_minor": 5
}
